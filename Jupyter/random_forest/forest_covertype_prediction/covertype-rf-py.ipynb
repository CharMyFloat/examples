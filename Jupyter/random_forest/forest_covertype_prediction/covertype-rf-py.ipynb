{
  "cells": [
    {
      "cell_type": "markdown",
      "metadata": {},
      "source": [
        "[![Binder](https://mybinder.org/badge_logo.svg)](https://lab.mlpack.org/v2/gh/mlpack/examples/master?urlpath=lab%2Ftree%2Fforest_covertype_prediction_with_random_forests%2Fcovertype-rf-py.ipynb)"
      ]
    },
    {
      "cell_type": "code",
      "execution_count": 11,
      "metadata": {
        "trusted": true
      },
      "outputs": [],
      "source": [
        "# @file covertype-rf-py.ipynb\n",
        "#\n",
        "# Classification using Random Forest on the Covertype dataset."
      ]
    },
    {
      "cell_type": "code",
      "execution_count": 12,
      "metadata": {
        "trusted": true
      },
      "outputs": [],
      "source": [
        "import mlpack\n",
        "import pandas as pd\n",
        "import numpy as np"
      ]
    },
    {
      "cell_type": "code",
      "execution_count": 13,
      "metadata": {
        "trusted": true
      },
      "outputs": [],
      "source": [
        "# Load the dataset from an online URL.\n",
        "df = pd.read_csv('https://datasets.mlpack.org/covertype-small.csv.gz')"
      ]
    },
    {
      "cell_type": "code",
      "execution_count": 14,
      "metadata": {
        "trusted": true
      },
      "outputs": [],
      "source": [
        "# Split the labels.\n",
        "labels = df['label']\n",
        "dataset = df.drop('label', axis=1)"
      ]
    },
    {
      "cell_type": "code",
      "execution_count": 15,
      "metadata": {
        "trusted": true
      },
      "outputs": [],
      "source": [
        "# Split the dataset using mlpack. The output comes back as a dictionary, which\n",
        "# we'll unpack for clarity of code.\n",
        "output = mlpack.preprocess_split(input_=dataset, input_labels=labels, test_ratio=0.3)"
      ]
    },
    {
      "cell_type": "code",
      "execution_count": 16,
      "metadata": {
        "trusted": true
      },
      "outputs": [],
      "source": [
        "training_set = output['training']\n",
        "training_labels = output['training_labels']\n",
        "test_set = output['test']\n",
        "test_labels = output['test_labels']"
      ]
    },
    {
      "cell_type": "code",
      "execution_count": 17,
      "metadata": {
        "trusted": true
      },
      "outputs": [],
      "source": [
        "# Train a random forest.\n",
        "output = mlpack.random_forest(training=training_set, labels=training_labels,\n",
        "    print_training_accuracy=True, num_trees=10, minimum_leaf_size=3)"
      ]
    },
    {
      "cell_type": "code",
      "execution_count": 18,
      "metadata": {
        "trusted": true
      },
      "outputs": [],
      "source": [
        "random_forest = output['output_model']"
      ]
    },
    {
      "cell_type": "code",
      "execution_count": 19,
      "metadata": {
        "trusted": true
      },
      "outputs": [],
      "source": [
        "# Predict the labels of the test points.\n",
        "output = mlpack.random_forest(input_model=random_forest, test=test_set)"
      ]
    },
    {
      "cell_type": "code",
      "execution_count": 20,
      "metadata": {
        "trusted": true
      },
      "outputs": [
        {
          "name": "stdout",
          "output_type": "stream",
          "text": [
            "24513 correct out of 30000 (81.71%).\n"
          ]
        }
      ],
      "source": [
        "# Now print the accuracy. The 'probabilities' output could also be used to\n",
        "# generate an ROC curve.\n",
        "correct = np.sum(output['predictions'] == test_labels.flatten())\n",
        "print(str(correct) + ' correct out of ' + str(len(test_labels)) +\n",
        "      ' (' + str(100 * float(correct) / float(len(test_labels))) + '%).')"
      ]
    }
  ],
  "metadata": {
    "kernelspec": {
      "display_name": "Python 3",
      "language": "python",
      "name": "python3"
    },
    "language_info": {
      "codemirror_mode": {
        "name": "ipython",
        "version": 3
      },
      "file_extension": ".py",
      "mimetype": "text/x-python",
      "name": "python",
      "nbconvert_exporter": "python",
      "pygments_lexer": "ipython3",
      "version": "3.7.6"
    }
  },
  "nbformat": 4,
  "nbformat_minor": 4
}
